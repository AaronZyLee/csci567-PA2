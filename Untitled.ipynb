{
 "cells": [
  {
   "cell_type": "code",
   "execution_count": 1,
   "metadata": {
    "collapsed": true
   },
   "outputs": [],
   "source": [
    "import numpy as np"
   ]
  },
  {
   "cell_type": "code",
   "execution_count": 2,
   "metadata": {
    "collapsed": true
   },
   "outputs": [],
   "source": [
    "y = np.array([1,2,3,4])"
   ]
  },
  {
   "cell_type": "code",
   "execution_count": 4,
   "metadata": {
    "collapsed": true
   },
   "outputs": [],
   "source": [
    "w = y[1:]"
   ]
  },
  {
   "cell_type": "code",
   "execution_count": 5,
   "metadata": {},
   "outputs": [
    {
     "data": {
      "text/plain": [
       "array([2, 3, 4])"
      ]
     },
     "execution_count": 5,
     "metadata": {},
     "output_type": "execute_result"
    }
   ],
   "source": [
    "w"
   ]
  },
  {
   "cell_type": "code",
   "execution_count": 8,
   "metadata": {},
   "outputs": [
    {
     "data": {
      "text/plain": [
       "array([1, 2, 3, 4])"
      ]
     },
     "execution_count": 8,
     "metadata": {},
     "output_type": "execute_result"
    }
   ],
   "source": [
    "np.insert(w,0,1)"
   ]
  },
  {
   "cell_type": "code",
   "execution_count": 9,
   "metadata": {},
   "outputs": [
    {
     "data": {
      "text/plain": [
       "array([2, 3, 4])"
      ]
     },
     "execution_count": 9,
     "metadata": {},
     "output_type": "execute_result"
    }
   ],
   "source": [
    "w"
   ]
  },
  {
   "cell_type": "code",
   "execution_count": 10,
   "metadata": {
    "collapsed": true
   },
   "outputs": [],
   "source": [
    "def sigmoid(x):\n",
    "    return 1 / (1 + np.exp(-x))"
   ]
  },
  {
   "cell_type": "code",
   "execution_count": 11,
   "metadata": {},
   "outputs": [
    {
     "data": {
      "text/plain": [
       "array([ 0.88079708,  0.95257413,  0.98201379])"
      ]
     },
     "execution_count": 11,
     "metadata": {},
     "output_type": "execute_result"
    }
   ],
   "source": [
    "sigmoid(w)"
   ]
  },
  {
   "cell_type": "code",
   "execution_count": 12,
   "metadata": {
    "collapsed": true
   },
   "outputs": [],
   "source": [
    "y = np.array([[1,2],[3,4]])"
   ]
  },
  {
   "cell_type": "code",
   "execution_count": 20,
   "metadata": {
    "collapsed": true
   },
   "outputs": [],
   "source": [
    "x = np.array([2,5])"
   ]
  },
  {
   "cell_type": "code",
   "execution_count": 14,
   "metadata": {},
   "outputs": [
    {
     "data": {
      "text/plain": [
       "array([[2, 4],\n",
       "       [6, 8]])"
      ]
     },
     "execution_count": 14,
     "metadata": {},
     "output_type": "execute_result"
    }
   ],
   "source": [
    "y*2"
   ]
  },
  {
   "cell_type": "code",
   "execution_count": 21,
   "metadata": {},
   "outputs": [
    {
     "data": {
      "text/plain": [
       "array([[ 2, 10],\n",
       "       [ 6, 20]])"
      ]
     },
     "execution_count": 21,
     "metadata": {},
     "output_type": "execute_result"
    }
   ],
   "source": [
    "y*x"
   ]
  },
  {
   "cell_type": "code",
   "execution_count": 22,
   "metadata": {},
   "outputs": [
    {
     "data": {
      "text/plain": [
       "array([[ 2, 10],\n",
       "       [ 6, 20]])"
      ]
     },
     "execution_count": 22,
     "metadata": {},
     "output_type": "execute_result"
    }
   ],
   "source": [
    "x*y"
   ]
  },
  {
   "cell_type": "code",
   "execution_count": 23,
   "metadata": {},
   "outputs": [
    {
     "data": {
      "text/plain": [
       "array([[ 2, 10],\n",
       "       [ 6, 20]])"
      ]
     },
     "execution_count": 23,
     "metadata": {},
     "output_type": "execute_result"
    }
   ],
   "source": [
    "x.T*y"
   ]
  },
  {
   "cell_type": "code",
   "execution_count": 25,
   "metadata": {},
   "outputs": [
    {
     "data": {
      "text/plain": [
       "array([[ 2,  4],\n",
       "       [15, 20]])"
      ]
     },
     "execution_count": 25,
     "metadata": {},
     "output_type": "execute_result"
    }
   ],
   "source": [
    "(x*y.T).T"
   ]
  },
  {
   "cell_type": "code",
   "execution_count": 27,
   "metadata": {},
   "outputs": [
    {
     "data": {
      "text/plain": [
       "array([ 6, 35])"
      ]
     },
     "execution_count": 27,
     "metadata": {},
     "output_type": "execute_result"
    }
   ],
   "source": [
    "((x*y.T).T).sum(axis=1)"
   ]
  },
  {
   "cell_type": "code",
   "execution_count": 29,
   "metadata": {},
   "outputs": [
    {
     "data": {
      "text/plain": [
       "2.2360679774997898"
      ]
     },
     "execution_count": 29,
     "metadata": {},
     "output_type": "execute_result"
    }
   ],
   "source": [
    "np.linalg.norm([1,2])"
   ]
  },
  {
   "cell_type": "code",
   "execution_count": 30,
   "metadata": {},
   "outputs": [
    {
     "data": {
      "text/plain": [
       "array([2, 5])"
      ]
     },
     "execution_count": 30,
     "metadata": {},
     "output_type": "execute_result"
    }
   ],
   "source": [
    "x"
   ]
  },
  {
   "cell_type": "code",
   "execution_count": 31,
   "metadata": {},
   "outputs": [
    {
     "data": {
      "text/plain": [
       "array([3, 6])"
      ]
     },
     "execution_count": 31,
     "metadata": {},
     "output_type": "execute_result"
    }
   ],
   "source": [
    "x+1"
   ]
  },
  {
   "cell_type": "code",
   "execution_count": 32,
   "metadata": {},
   "outputs": [
    {
     "data": {
      "text/plain": [
       "array([ True,  True], dtype=bool)"
      ]
     },
     "execution_count": 32,
     "metadata": {},
     "output_type": "execute_result"
    }
   ],
   "source": [
    "x>0"
   ]
  },
  {
   "cell_type": "code",
   "execution_count": 35,
   "metadata": {
    "collapsed": true
   },
   "outputs": [],
   "source": [
    "x = (x>0).astype(int)"
   ]
  },
  {
   "cell_type": "code",
   "execution_count": 36,
   "metadata": {},
   "outputs": [
    {
     "data": {
      "text/plain": [
       "array([1, 1])"
      ]
     },
     "execution_count": 36,
     "metadata": {},
     "output_type": "execute_result"
    }
   ],
   "source": [
    "x"
   ]
  },
  {
   "cell_type": "code",
   "execution_count": 40,
   "metadata": {},
   "outputs": [
    {
     "name": "stderr",
     "output_type": "stream",
     "text": [
      "UsageError: %%python3 is a cell magic, but the cell body is empty.\n"
     ]
    }
   ],
   "source": [
    "%%python3 logistic.py --type binary --output logistic_binary.out "
   ]
  },
  {
   "cell_type": "code",
   "execution_count": 41,
   "metadata": {},
   "outputs": [
    {
     "data": {
      "text/plain": [
       "array([[1, 2],\n",
       "       [3, 4]])"
      ]
     },
     "execution_count": 41,
     "metadata": {},
     "output_type": "execute_result"
    }
   ],
   "source": [
    "y"
   ]
  },
  {
   "cell_type": "code",
   "execution_count": 42,
   "metadata": {},
   "outputs": [
    {
     "data": {
      "text/plain": [
       "4"
      ]
     },
     "execution_count": 42,
     "metadata": {},
     "output_type": "execute_result"
    }
   ],
   "source": [
    "y.max()"
   ]
  },
  {
   "cell_type": "code",
   "execution_count": 43,
   "metadata": {},
   "outputs": [
    {
     "data": {
      "text/plain": [
       "array([[-3, -2],\n",
       "       [-1,  0]])"
      ]
     },
     "execution_count": 43,
     "metadata": {},
     "output_type": "execute_result"
    }
   ],
   "source": [
    "y-y.max()"
   ]
  },
  {
   "cell_type": "code",
   "execution_count": 44,
   "metadata": {},
   "outputs": [
    {
     "data": {
      "text/plain": [
       "array([2, 4])"
      ]
     },
     "execution_count": 44,
     "metadata": {},
     "output_type": "execute_result"
    }
   ],
   "source": [
    "y.max(axis=1)"
   ]
  },
  {
   "cell_type": "code",
   "execution_count": 45,
   "metadata": {},
   "outputs": [
    {
     "data": {
      "text/plain": [
       "array([[-1, -2],\n",
       "       [ 1,  0]])"
      ]
     },
     "execution_count": 45,
     "metadata": {},
     "output_type": "execute_result"
    }
   ],
   "source": [
    "y-y.max(axis=1)"
   ]
  },
  {
   "cell_type": "code",
   "execution_count": 46,
   "metadata": {},
   "outputs": [
    {
     "data": {
      "text/plain": [
       "array([[-1,  0],\n",
       "       [-1,  0]])"
      ]
     },
     "execution_count": 46,
     "metadata": {},
     "output_type": "execute_result"
    }
   ],
   "source": [
    "(y.T-y.max(axis=1)).T"
   ]
  },
  {
   "cell_type": "code",
   "execution_count": 47,
   "metadata": {},
   "outputs": [
    {
     "data": {
      "text/plain": [
       "array([[1, 2],\n",
       "       [3, 4]])"
      ]
     },
     "execution_count": 47,
     "metadata": {},
     "output_type": "execute_result"
    }
   ],
   "source": [
    "y"
   ]
  },
  {
   "cell_type": "code",
   "execution_count": 52,
   "metadata": {
    "collapsed": true
   },
   "outputs": [],
   "source": [
    "x = np.array([[1,2,3],[5,6,7]])"
   ]
  },
  {
   "cell_type": "code",
   "execution_count": 53,
   "metadata": {},
   "outputs": [
    {
     "data": {
      "text/plain": [
       "array([[1, 2, 3],\n",
       "       [5, 6, 7]])"
      ]
     },
     "execution_count": 53,
     "metadata": {},
     "output_type": "execute_result"
    }
   ],
   "source": [
    "x"
   ]
  },
  {
   "cell_type": "code",
   "execution_count": 59,
   "metadata": {},
   "outputs": [
    {
     "data": {
      "text/plain": [
       "array([[1, 2, 3],\n",
       "       [5, 6, 7]])"
      ]
     },
     "execution_count": 59,
     "metadata": {},
     "output_type": "execute_result"
    }
   ],
   "source": [
    "x"
   ]
  },
  {
   "cell_type": "code",
   "execution_count": 62,
   "metadata": {
    "collapsed": true
   },
   "outputs": [],
   "source": [
    "w = np.array([2,2])"
   ]
  },
  {
   "cell_type": "code",
   "execution_count": 65,
   "metadata": {},
   "outputs": [
    {
     "ename": "ValueError",
     "evalue": "operands could not be broadcast together with shapes (2,) (2,3) ",
     "output_type": "error",
     "traceback": [
      "\u001b[0;31m---------------------------------------------------------------------------\u001b[0m",
      "\u001b[0;31mValueError\u001b[0m                                Traceback (most recent call last)",
      "\u001b[0;32m<ipython-input-65-903331d7476c>\u001b[0m in \u001b[0;36m<module>\u001b[0;34m()\u001b[0m\n\u001b[0;32m----> 1\u001b[0;31m \u001b[0mw\u001b[0m\u001b[0;34m*\u001b[0m\u001b[0mx\u001b[0m\u001b[0;34m\u001b[0m\u001b[0m\n\u001b[0m",
      "\u001b[0;31mValueError\u001b[0m: operands could not be broadcast together with shapes (2,) (2,3) "
     ]
    }
   ],
   "source": [
    "w*x"
   ]
  },
  {
   "cell_type": "code",
   "execution_count": 66,
   "metadata": {},
   "outputs": [
    {
     "data": {
      "text/plain": [
       "array([[1, 5],\n",
       "       [2, 6],\n",
       "       [3, 7]])"
      ]
     },
     "execution_count": 66,
     "metadata": {},
     "output_type": "execute_result"
    }
   ],
   "source": [
    "x.transpose()"
   ]
  },
  {
   "cell_type": "code",
   "execution_count": 1,
   "metadata": {},
   "outputs": [
    {
     "name": "stdout",
     "output_type": "stream",
     "text": [
      "Performing binary classification on synthetic data\n"
     ]
    },
    {
     "name": "stderr",
     "output_type": "stream",
     "text": [
      "/Users/lizeyu/anaconda3/lib/python3.6/site-packages/sklearn/model_selection/_split.py:2026: FutureWarning: From version 0.21, test_size will always complement train_size unless both are specified.\n",
      "  FutureWarning)\n"
     ]
    }
   ],
   "source": [
    "    from data_loader import toy_data_binary, \\\n",
    "                            data_loader_mnist \n",
    "\n",
    "    print('Performing binary classification on synthetic data')\n",
    "    X_train, X_test, y_train, y_test = toy_data_binary()"
   ]
  },
  {
   "cell_type": "code",
   "execution_count": 69,
   "metadata": {},
   "outputs": [
    {
     "data": {
      "text/plain": [
       "array([1, 0, 1, 1, 1, 0, 1, 1, 1, 1, 0, 0, 0, 1, 1, 1, 0, 0, 1, 1, 1, 1, 0,\n",
       "       1, 0, 0, 1, 0, 1, 0, 0, 0, 1, 0, 0, 1, 1, 0, 1, 1, 1, 0, 1, 1, 0, 0,\n",
       "       0, 1, 0, 0, 1, 1, 1, 0, 0, 1, 0, 0, 0, 0, 0, 1, 0, 1, 1, 1, 0, 1, 1,\n",
       "       0, 1, 1, 1, 1, 1, 0, 1, 1, 0, 1, 0, 0, 0, 0, 1, 0, 0, 0, 1, 0, 1, 1,\n",
       "       0, 1, 0, 1, 0, 1, 0, 0, 1, 1, 0, 1, 1, 1, 0, 0, 0, 1, 0, 0, 0, 1, 0,\n",
       "       1, 0, 0, 0, 0, 1, 0, 0, 0, 0, 1, 1, 0, 0, 1, 1, 1, 0, 1, 1, 0, 1, 1,\n",
       "       1, 1, 0, 0, 0, 0, 1, 0, 1, 1, 1, 1, 1, 1, 0, 1, 0, 1, 1, 1, 1, 1, 1,\n",
       "       1, 1, 0, 1, 1, 1, 0, 0, 1, 1, 1, 0, 0, 0, 0, 1, 0, 0, 0, 0, 0, 1, 0,\n",
       "       1, 0, 0, 1, 1, 0, 0, 0, 1, 0, 1, 1, 1, 0, 0, 1, 1, 0, 1, 1, 0, 1, 1,\n",
       "       0, 1, 0, 0, 0, 0, 0, 0, 1, 0, 1, 1, 1, 0, 0, 1, 1, 0, 1, 0, 0, 0, 0,\n",
       "       1, 0, 1, 0, 1, 1, 1, 0, 0, 0, 0, 1, 0, 0, 1, 0, 1, 0, 0, 1, 1, 0, 0,\n",
       "       1, 0, 1, 1, 1, 0, 0, 0, 0, 1, 1, 1, 1, 0, 0, 1, 1, 1, 1, 0, 0, 1, 1,\n",
       "       1, 0, 1, 1, 0, 1, 1, 0, 0, 0, 1, 0, 1, 1, 0, 1, 1, 1, 1, 1, 1, 0, 0,\n",
       "       0, 0, 1, 1, 0, 1, 0, 1, 0, 1, 0, 1, 0, 1, 0, 0, 0, 1, 1, 0, 0, 0, 0,\n",
       "       1, 1, 0, 0, 0, 0, 1, 0, 1, 1, 1, 0, 1, 1, 0, 1, 1, 1, 1, 0, 0, 1, 1,\n",
       "       1, 0, 1, 0, 0])"
      ]
     },
     "execution_count": 69,
     "metadata": {},
     "output_type": "execute_result"
    }
   ],
   "source": [
    "y_train"
   ]
  },
  {
   "cell_type": "code",
   "execution_count": 2,
   "metadata": {},
   "outputs": [],
   "source": [
    "from logistic import binary_train\n",
    "w, b = binary_train(X_train, y_train)"
   ]
  },
  {
   "cell_type": "code",
   "execution_count": 3,
   "metadata": {},
   "outputs": [
    {
     "data": {
      "text/plain": [
       "(array([ 6.94095063,  1.04783362]), -0.19352029080720606)"
      ]
     },
     "execution_count": 3,
     "metadata": {},
     "output_type": "execute_result"
    }
   ],
   "source": [
    "w,b"
   ]
  },
  {
   "cell_type": "code",
   "execution_count": 72,
   "metadata": {
    "collapsed": true
   },
   "outputs": [],
   "source": [
    "X = X_train\n",
    "y = y_train"
   ]
  },
  {
   "cell_type": "code",
   "execution_count": 74,
   "metadata": {
    "collapsed": true
   },
   "outputs": [],
   "source": [
    "N, D = X.shape\n",
    "w = np.zeros(D)\n",
    "b = 0\n",
    "wp = np.insert(w,0,b)\n",
    "X = np.column_stack((np.ones(N),X))\n",
    "iter = 0\n",
    "converge=False\n",
    "threshold=1e-2"
   ]
  },
  {
   "cell_type": "code",
   "execution_count": 107,
   "metadata": {
    "collapsed": true
   },
   "outputs": [],
   "source": [
    "        z = wp*X"
   ]
  },
  {
   "cell_type": "code",
   "execution_count": 108,
   "metadata": {},
   "outputs": [
    {
     "data": {
      "text/plain": [
       "array([[ 181.77221486,  287.60545087,   -9.07627584],\n",
       "       [ 181.77221486, -248.390034  ,  -18.34519634],\n",
       "       [ 181.77221486,  280.76857682,   -4.01943031],\n",
       "       ..., \n",
       "       [ 181.77221486,  219.38929628,  -23.51415255],\n",
       "       [ 181.77221486, -299.17021289,   -3.88025338],\n",
       "       [ 181.77221486, -254.99933143,    0.78084663]])"
      ]
     },
     "execution_count": 108,
     "metadata": {},
     "output_type": "execute_result"
    }
   ],
   "source": [
    "z"
   ]
  },
  {
   "cell_type": "code",
   "execution_count": 109,
   "metadata": {
    "collapsed": true
   },
   "outputs": [],
   "source": [
    "temp = z.sum(axis=1)"
   ]
  },
  {
   "cell_type": "code",
   "execution_count": 110,
   "metadata": {},
   "outputs": [
    {
     "data": {
      "text/plain": [
       "array([ 460.30138989,  -84.96301549,  458.52136137,  343.05161238,\n",
       "        439.89831457,  -71.98692274,  459.90322159,  415.93800253,\n",
       "        400.9871699 ,  470.18817986,   39.02592589,  -62.93424316,\n",
       "        -92.26809817,  384.65838219,  406.52846152,  389.82889768,\n",
       "        -58.99228949,  212.97427424,  396.63400704,  469.82733031,\n",
       "        510.01590747,  460.60281242,  -67.54909665,  568.02622646,\n",
       "        -13.74479672, -157.0322851 ,  500.36421187, -102.846367  ,\n",
       "        426.4656328 , -168.00193978,   87.28443953,  -16.27269486,\n",
       "        415.95727608,  -46.7810563 , -179.4342195 ,  445.03582307,\n",
       "        457.97821267,  -75.95620011,  441.08957396,  496.01719551,\n",
       "        459.56928033, -155.73275851,  348.83255033,  420.18530458,\n",
       "       -147.33654943, -210.46035577, -128.21493074,  482.54158002,\n",
       "        -61.58437679,  -88.95894451,  417.74222223,  517.22008043,\n",
       "        431.15154693,   -5.63860565, -112.37482943,  431.92326113,\n",
       "       -114.77423924,  -90.39270401, -224.77872548,  -32.93278367,\n",
       "       -115.23952934,  438.50061849, -139.89422788,  391.51701003,\n",
       "        406.02899058,  406.49333134,  -50.94593213,  441.90476747,\n",
       "        452.0103275 ,   12.0568044 ,  499.41507456,  450.79188321,\n",
       "        379.93735701,  463.05118375,  479.91793179,  -44.0374604 ,\n",
       "        511.62404168,  440.27694414,   -6.02966612,  475.11977986,\n",
       "        -69.07193452, -101.40133129,    7.63458682, -104.14938991,\n",
       "        572.91869181, -114.08742941,  -41.40399919,    2.12686132,\n",
       "        467.64288219,   40.48285633,  381.53343067,  509.05090828,\n",
       "       -143.14589686,  496.6525823 , -219.87630101,  460.53244942,\n",
       "       -113.79492669,  431.07636055,  -61.50137326,  -72.44089978,\n",
       "        446.75232091,  486.25224263,  -26.20486748,  428.53928789,\n",
       "        526.56479778,  420.3108995 ,  -93.38099266, -134.14710622,\n",
       "        -65.6792141 ,  380.92614058,  -51.32421016,  -95.64052789,\n",
       "       -178.70071835,  481.68157494, -105.5654817 ,  448.99493158,\n",
       "        -40.14457063,  -69.20398803,  -45.38828736, -171.03636232,\n",
       "        396.65100866,  -70.89527622,  -88.37651851,   27.46366625,\n",
       "        -10.38479893,  430.1824295 ,  538.41584675, -208.77494679,\n",
       "        -76.61638123,  445.07813321,  430.06758141,  475.89838742,\n",
       "        -68.15171503,  460.6791449 ,  432.01880171, -150.53130337,\n",
       "        470.2589364 ,  440.37979471,  333.52371747,  412.76219078,\n",
       "       -101.5777179 ,  -47.660967  ,  -17.04712456,  -50.04054769,\n",
       "        441.50059362,   50.67797902,  428.96426858,  498.79095089,\n",
       "        442.47212229,  463.33362807,  497.4962879 ,  430.128088  ,\n",
       "        -80.14457586,  425.44546079,  -63.14296314,  477.57701671,\n",
       "        396.39805966,  420.41075595,  435.23119449,  457.24912639,\n",
       "        484.76315447,  447.80895035,  482.64112293,  -66.85962034,\n",
       "        493.83014988,  464.35596321,  423.14179366,  -72.56173472,\n",
       "       -133.65333519,  460.63636439,  435.08583017,  403.50213459,\n",
       "         64.95024395,  -86.18035788, -113.47187984,   -5.89254037,\n",
       "        482.24910764, -173.39514401, -186.09577282, -117.58123665,\n",
       "       -203.58085717,    9.12800233,  386.52554845, -117.75345212,\n",
       "        448.69276921,  -55.55389308, -139.10078265,  418.49649039,\n",
       "        415.55877779,   -1.843815  ,  -66.19892163, -140.41626741,\n",
       "        428.31942772,  -70.3764026 ,  467.56130173,  495.91752759,\n",
       "        451.52593004,   -8.99943568, -181.89423815,  446.0726102 ,\n",
       "        466.12390445, -213.29413478,  460.41023036,  424.82776727,\n",
       "       -149.31706705,  506.85698957,  452.51099093, -183.96317257,\n",
       "        441.94854885,  -78.51288373,  -72.20825974, -182.69326971,\n",
       "       -139.73250929, -152.85474569,  -99.07392898,  408.70661996,\n",
       "       -172.00480422,  489.43607717,  457.14362538,  430.27534833,\n",
       "       -128.33571273,  109.78151313,  416.67698406,  447.56688887,\n",
       "        -73.08227273,  424.60071699, -197.87182586, -158.03877845,\n",
       "        -10.26564222,  -52.36570269,  480.65568248, -103.23240352,\n",
       "        531.31400497, -176.48856257,  406.17818011,  395.66928596,\n",
       "        531.64330708, -210.20668605,  -26.96036378,  -49.35366372,\n",
       "       -116.29625569,  411.50593031,   84.66122746,  -16.36105198,\n",
       "        410.24144616,  -40.84691637,  443.70359979, -132.31364738,\n",
       "       -180.38141054,  462.76105477,  475.68985116,  -30.05003503,\n",
       "       -147.09831485,  396.87976575,  -37.86998388,  452.2966371 ,\n",
       "        423.6042259 ,  408.88162263,  -72.93790375, -125.3873942 ,\n",
       "       -154.8461842 ,  -66.51379397,  453.99206541,  416.89821504,\n",
       "        486.58680805,  461.61217871, -162.94319218,  109.10807551,\n",
       "        423.8179992 ,  432.42625606,  451.51937814,  446.5500498 ,\n",
       "        -36.23034638, -182.59078653,  360.96785309,  447.49992763,\n",
       "        397.33309966,   81.84397834,  504.3784703 ,  498.33902484,\n",
       "       -131.17245453,  427.59252314,  435.36184632,   38.63380212,\n",
       "        -52.69443776,    6.17650159,  441.04564822,  -32.47042933,\n",
       "        448.60113973,  430.618859  ,  -88.38591625,  384.17485677,\n",
       "        382.41863087,  431.29403917,  489.48335836,  447.01629392,\n",
       "        408.73277468,  -48.65500679, -127.55734991,  -85.57936766,\n",
       "       -180.63835026,  407.54456618,  455.71098184,  -33.81728765,\n",
       "        471.43995499, -209.37542958,  510.22897839, -100.89563956,\n",
       "        435.76619976,  -71.04450314,  399.3625431 ,   34.85608719,\n",
       "        462.67685049, -102.07366893,  -11.80788312,   34.4188877 ,\n",
       "        405.3923595 ,  493.97634736, -106.72736987, -162.54774949,\n",
       "        -22.51176842,  -42.15718981,  408.38202383,  371.86695481,\n",
       "        -17.41978997,   41.03003055,  -72.51535827, -104.46368248,\n",
       "        442.39757179,   10.31340242,  494.08102926,  422.21537061,\n",
       "        465.60868213, -206.28205033,  -33.07396373,  475.77037389,\n",
       "        -80.39490942,  499.32190335,  506.72988797,  463.91697998,\n",
       "        434.08181354,  -92.75872672, -117.67555476,  450.56197578,\n",
       "        429.83823096,  455.42106626, -157.24973691,  377.64735859,\n",
       "       -121.27825141,  -72.44626994])"
      ]
     },
     "execution_count": 110,
     "metadata": {},
     "output_type": "execute_result"
    }
   ],
   "source": [
    "temp"
   ]
  },
  {
   "cell_type": "code",
   "execution_count": 111,
   "metadata": {
    "collapsed": true
   },
   "outputs": [],
   "source": [
    "temp = temp - temp.max()"
   ]
  },
  {
   "cell_type": "code",
   "execution_count": 112,
   "metadata": {},
   "outputs": [
    {
     "data": {
      "text/plain": [
       "array([-112.61730192, -657.8817073 , -114.39733044, -229.86707943,\n",
       "       -133.02037725, -644.90561456, -113.01547022, -156.98068928,\n",
       "       -171.93152191, -102.73051195, -533.89276592, -635.85293497,\n",
       "       -665.18678998, -188.26030963, -166.3902303 , -183.08979413,\n",
       "       -631.9109813 , -359.94441757, -176.28468477, -103.09136151,\n",
       "        -62.90278434, -112.3158794 , -640.46778846,   -4.89246536,\n",
       "       -586.66348854, -729.95097691,  -72.55447994, -675.76505882,\n",
       "       -146.45305901, -740.92063159, -485.63425228, -589.19138667,\n",
       "       -156.96141573, -619.69974811, -752.35291131, -127.88286875,\n",
       "       -114.94047914, -648.87489192, -131.82911785,  -76.9014963 ,\n",
       "       -113.34941149, -728.65145032, -224.08614148, -152.73338723,\n",
       "       -720.25524124, -783.37904758, -701.13362255,  -90.37711179,\n",
       "       -634.5030686 , -661.87763632, -155.17646958,  -55.69861139,\n",
       "       -141.76714488, -578.55729746, -685.29352124, -140.99543068,\n",
       "       -687.69293105, -663.31139582, -797.6974173 , -605.85147548,\n",
       "       -688.15822115, -134.41807332, -712.81291969, -181.40168179,\n",
       "       -166.88970123, -166.42536047, -623.86462395, -131.01392435,\n",
       "       -120.90836431, -560.86188741,  -73.50361725, -122.1268086 ,\n",
       "       -192.9813348 , -109.86750807,  -93.00076003, -616.95615222,\n",
       "        -61.29465013, -132.64174767, -578.94835793,  -97.79891195,\n",
       "       -641.99062633, -674.32002311, -565.284105  , -677.06808173,\n",
       "          0.        , -687.00612122, -614.32269101, -570.79183049,\n",
       "       -105.27580962, -532.43583548, -191.38526115,  -63.86778353,\n",
       "       -716.06458867,  -76.26610951, -792.79499283, -112.38624239,\n",
       "       -686.71361851, -141.84233126, -634.42006507, -645.35959159,\n",
       "       -126.1663709 ,  -86.66644919, -599.1235593 , -144.37940392,\n",
       "        -46.35389403, -152.60779231, -666.29968447, -707.06579803,\n",
       "       -638.59790591, -191.99255124, -624.24290197, -668.5592197 ,\n",
       "       -751.61941016,  -91.23711688, -678.48417352, -123.92376023,\n",
       "       -613.06326244, -642.12267984, -618.30697917, -743.95505413,\n",
       "       -176.26768316, -643.81396803, -661.29521032, -545.45502557,\n",
       "       -583.30349075, -142.73626231,  -34.50284507, -781.69363861,\n",
       "       -649.53507305, -127.84055861, -142.8511104 ,  -97.0203044 ,\n",
       "       -641.07040684, -112.23954692, -140.89989011, -723.44999519,\n",
       "       -102.65975541, -132.5388971 , -239.39497434, -160.15650103,\n",
       "       -674.49640972, -620.57965881, -589.96581637, -622.9592395 ,\n",
       "       -131.41809819, -522.24071279, -143.95442323,  -74.12774093,\n",
       "       -130.44656953, -109.58506374,  -75.42240392, -142.79060381,\n",
       "       -653.06326767, -147.47323102, -636.06165496,  -95.3416751 ,\n",
       "       -176.52063216, -152.50793587, -137.68749733, -115.66956542,\n",
       "        -88.15553734, -125.10974147,  -90.27756888, -639.77831215,\n",
       "        -79.08854193, -108.5627286 , -149.77689815, -645.48042653,\n",
       "       -706.572027  , -112.28232742, -137.83286164, -169.41655723,\n",
       "       -507.96844786, -659.09904969, -686.39057165, -578.81123218,\n",
       "        -90.66958417, -746.31383582, -759.01446464, -690.49992846,\n",
       "       -776.49954898, -563.79068948, -186.39314336, -690.67214394,\n",
       "       -124.2259226 , -628.47258489, -712.01947446, -154.42220142,\n",
       "       -157.35991402, -574.76250682, -639.11761344, -713.33495922,\n",
       "       -144.5992641 , -643.29509441, -105.35739008,  -77.00116423,\n",
       "       -121.39276177, -581.91812749, -754.81292997, -126.84608162,\n",
       "       -106.79478736, -786.21282659, -112.50846146, -148.09092454,\n",
       "       -722.23575886,  -66.06170225, -120.40770088, -756.88186438,\n",
       "       -130.97014297, -651.43157555, -645.12695155, -755.61196152,\n",
       "       -712.6512011 , -725.7734375 , -671.99262079, -164.21207185,\n",
       "       -744.92349603,  -83.48261465, -115.77506643, -142.64334349,\n",
       "       -701.25440454, -463.13717868, -156.24170776, -125.35180295,\n",
       "       -646.00096455, -148.31797482, -770.79051767, -730.95747027,\n",
       "       -583.18433403, -625.28439451,  -92.26300933, -676.15109533,\n",
       "        -41.60468684, -749.40725438, -166.7405117 , -177.24940586,\n",
       "        -41.27538473, -783.12537786, -599.8790556 , -622.27235553,\n",
       "       -689.2149475 , -161.41276151, -488.25746435, -589.2797438 ,\n",
       "       -162.67724565, -613.76560818, -129.21509202, -705.23233919,\n",
       "       -753.30010236, -110.15763704,  -97.22884066, -602.96872684,\n",
       "       -720.01700667, -176.03892607, -610.78867569, -120.62205471,\n",
       "       -149.31446591, -164.03706918, -645.85659556, -698.30608602,\n",
       "       -727.76487602, -639.43248579, -118.9266264 , -156.02047677,\n",
       "        -86.33188376, -111.3065131 , -735.861884  , -463.8106163 ,\n",
       "       -149.10069261, -140.49243576, -121.39931367, -126.36864201,\n",
       "       -609.14903819, -755.50947835, -211.95083872, -125.41876418,\n",
       "       -175.58559215, -491.07471347,  -68.54022151,  -74.57966697,\n",
       "       -704.09114635, -145.32616867, -137.55684549, -534.28488969,\n",
       "       -625.61312957, -566.74219023, -131.87304359, -605.38912114,\n",
       "       -124.31755209, -142.29983281, -661.30460806, -188.74383504,\n",
       "       -190.50006094, -141.62465264,  -83.43533345, -125.9023979 ,\n",
       "       -164.18591714, -621.5736986 , -700.47604172, -658.49805947,\n",
       "       -753.55704208, -165.37412563, -117.20770997, -606.73597947,\n",
       "       -101.47873683, -782.2941214 ,  -62.68971343, -673.81433137,\n",
       "       -137.15249205, -643.96319496, -173.55614872, -538.06260462,\n",
       "       -110.24184132, -674.99236074, -584.72657493, -538.49980412,\n",
       "       -167.52633232,  -78.94234445, -679.64606168, -735.4664413 ,\n",
       "       -595.43046024, -615.07588162, -164.53666798, -201.05173701,\n",
       "       -590.33848179, -531.88866126, -645.43405008, -677.3823743 ,\n",
       "       -130.52112002, -562.60528939,  -78.83766255, -150.7033212 ,\n",
       "       -107.31000968, -779.20074214, -605.99265554,  -97.14831793,\n",
       "       -653.31360124,  -73.59678846,  -66.18880384, -109.00171184,\n",
       "       -138.83687827, -665.67741853, -690.59424658, -122.35671604,\n",
       "       -143.08046085, -117.49762556, -730.16842873, -195.27133322,\n",
       "       -694.19694322, -645.36496176])"
      ]
     },
     "execution_count": 112,
     "metadata": {},
     "output_type": "execute_result"
    }
   ],
   "source": [
    "temp"
   ]
  },
  {
   "cell_type": "code",
   "execution_count": 113,
   "metadata": {},
   "outputs": [
    {
     "name": "stderr",
     "output_type": "stream",
     "text": [
      "/Users/lizeyu/anaconda3/lib/python3.6/site-packages/ipykernel_launcher.py:2: RuntimeWarning: overflow encountered in exp\n",
      "  \n"
     ]
    }
   ],
   "source": [
    "gradient = ((sigmoid(temp)-y)*X.T).sum(axis=1)"
   ]
  },
  {
   "cell_type": "code",
   "execution_count": 114,
   "metadata": {},
   "outputs": [
    {
     "data": {
      "text/plain": [
       "array([-179.49255297, -177.37771832,   -8.1303198 ])"
      ]
     },
     "execution_count": 114,
     "metadata": {},
     "output_type": "execute_result"
    }
   ],
   "source": [
    "gradient"
   ]
  },
  {
   "cell_type": "code",
   "execution_count": 104,
   "metadata": {
    "collapsed": true
   },
   "outputs": [],
   "source": [
    "wp-=0.5*gradient"
   ]
  },
  {
   "cell_type": "code",
   "execution_count": 105,
   "metadata": {},
   "outputs": [
    {
     "data": {
      "text/plain": [
       "array([ 181.77221486,  263.53007307,   16.23889974])"
      ]
     },
     "execution_count": 105,
     "metadata": {},
     "output_type": "execute_result"
    }
   ],
   "source": [
    "wp"
   ]
  },
  {
   "cell_type": "code",
   "execution_count": 106,
   "metadata": {},
   "outputs": [
    {
     "data": {
      "text/plain": [
       "251.72877883110237"
      ]
     },
     "execution_count": 106,
     "metadata": {},
     "output_type": "execute_result"
    }
   ],
   "source": [
    "np.linalg.norm(gradient)"
   ]
  },
  {
   "cell_type": "code",
   "execution_count": 117,
   "metadata": {},
   "outputs": [
    {
     "name": "stderr",
     "output_type": "stream",
     "text": [
      "/Users/lizeyu/anaconda3/lib/python3.6/site-packages/ipykernel_launcher.py:2: RuntimeWarning: overflow encountered in exp\n",
      "  \n"
     ]
    },
    {
     "data": {
      "text/plain": [
       "0.0"
      ]
     },
     "execution_count": 117,
     "metadata": {},
     "output_type": "execute_result"
    }
   ],
   "source": [
    "sigmoid(-1000)"
   ]
  },
  {
   "cell_type": "code",
   "execution_count": 5,
   "metadata": {},
   "outputs": [],
   "source": [
    "import numpy as np"
   ]
  },
  {
   "cell_type": "code",
   "execution_count": 6,
   "metadata": {},
   "outputs": [],
   "source": [
    "w = np.zeros((3,3))"
   ]
  },
  {
   "cell_type": "code",
   "execution_count": 7,
   "metadata": {
    "collapsed": true
   },
   "outputs": [],
   "source": [
    "w[0] = np.ones(3)"
   ]
  },
  {
   "cell_type": "code",
   "execution_count": 8,
   "metadata": {},
   "outputs": [
    {
     "data": {
      "text/plain": [
       "array([[ 1.,  1.,  1.],\n",
       "       [ 0.,  0.,  0.],\n",
       "       [ 0.,  0.,  0.]])"
      ]
     },
     "execution_count": 8,
     "metadata": {},
     "output_type": "execute_result"
    }
   ],
   "source": [
    "w"
   ]
  },
  {
   "cell_type": "code",
   "execution_count": 9,
   "metadata": {},
   "outputs": [
    {
     "ename": "NameError",
     "evalue": "name 'x' is not defined",
     "output_type": "error",
     "traceback": [
      "\u001b[0;31m---------------------------------------------------------------------------\u001b[0m",
      "\u001b[0;31mNameError\u001b[0m                                 Traceback (most recent call last)",
      "\u001b[0;32m<ipython-input-9-401b30e3b8b5>\u001b[0m in \u001b[0;36m<module>\u001b[0;34m()\u001b[0m\n\u001b[0;32m----> 1\u001b[0;31m \u001b[0mx\u001b[0m\u001b[0;34m\u001b[0m\u001b[0m\n\u001b[0m",
      "\u001b[0;31mNameError\u001b[0m: name 'x' is not defined"
     ]
    }
   ],
   "source": [
    "x"
   ]
  },
  {
   "cell_type": "code",
   "execution_count": 10,
   "metadata": {
    "collapsed": true
   },
   "outputs": [],
   "source": [
    "x = np.array([[1,2],[2,3],[5,6]])"
   ]
  },
  {
   "cell_type": "code",
   "execution_count": 18,
   "metadata": {},
   "outputs": [],
   "source": [
    "w = np.array([[8,9,10],[5,4,3]])"
   ]
  },
  {
   "cell_type": "code",
   "execution_count": 12,
   "metadata": {},
   "outputs": [
    {
     "ename": "ValueError",
     "evalue": "operands could not be broadcast together with shapes (3,2) (3,) ",
     "output_type": "error",
     "traceback": [
      "\u001b[0;31m---------------------------------------------------------------------------\u001b[0m",
      "\u001b[0;31mValueError\u001b[0m                                Traceback (most recent call last)",
      "\u001b[0;32m<ipython-input-12-d3bed34732c6>\u001b[0m in \u001b[0;36m<module>\u001b[0;34m()\u001b[0m\n\u001b[0;32m----> 1\u001b[0;31m \u001b[0mx\u001b[0m\u001b[0;34m*\u001b[0m\u001b[0mw\u001b[0m\u001b[0;34m\u001b[0m\u001b[0m\n\u001b[0m",
      "\u001b[0;31mValueError\u001b[0m: operands could not be broadcast together with shapes (3,2) (3,) "
     ]
    }
   ],
   "source": [
    "x*w"
   ]
  },
  {
   "cell_type": "code",
   "execution_count": 13,
   "metadata": {},
   "outputs": [
    {
     "ename": "ValueError",
     "evalue": "operands could not be broadcast together with shapes (3,2) (3,) ",
     "output_type": "error",
     "traceback": [
      "\u001b[0;31m---------------------------------------------------------------------------\u001b[0m",
      "\u001b[0;31mValueError\u001b[0m                                Traceback (most recent call last)",
      "\u001b[0;32m<ipython-input-13-5c656df55b10>\u001b[0m in \u001b[0;36m<module>\u001b[0;34m()\u001b[0m\n\u001b[0;32m----> 1\u001b[0;31m \u001b[0mnp\u001b[0m\u001b[0;34m.\u001b[0m\u001b[0mdot\u001b[0m\u001b[0;34m(\u001b[0m\u001b[0mx\u001b[0m\u001b[0;34m*\u001b[0m\u001b[0mw\u001b[0m\u001b[0;34m)\u001b[0m\u001b[0;34m\u001b[0m\u001b[0m\n\u001b[0m",
      "\u001b[0;31mValueError\u001b[0m: operands could not be broadcast together with shapes (3,2) (3,) "
     ]
    }
   ],
   "source": [
    "np.dot(x*w)"
   ]
  },
  {
   "cell_type": "code",
   "execution_count": 14,
   "metadata": {},
   "outputs": [
    {
     "ename": "ValueError",
     "evalue": "shapes (3,2) and (3,) not aligned: 2 (dim 1) != 3 (dim 0)",
     "output_type": "error",
     "traceback": [
      "\u001b[0;31m---------------------------------------------------------------------------\u001b[0m",
      "\u001b[0;31mValueError\u001b[0m                                Traceback (most recent call last)",
      "\u001b[0;32m<ipython-input-14-b25c04e3d50f>\u001b[0m in \u001b[0;36m<module>\u001b[0;34m()\u001b[0m\n\u001b[0;32m----> 1\u001b[0;31m \u001b[0mx\u001b[0m\u001b[0;34m.\u001b[0m\u001b[0mdot\u001b[0m\u001b[0;34m(\u001b[0m\u001b[0mw\u001b[0m\u001b[0;34m)\u001b[0m\u001b[0;34m\u001b[0m\u001b[0m\n\u001b[0m",
      "\u001b[0;31mValueError\u001b[0m: shapes (3,2) and (3,) not aligned: 2 (dim 1) != 3 (dim 0)"
     ]
    }
   ],
   "source": [
    "x.dot(w)"
   ]
  },
  {
   "cell_type": "code",
   "execution_count": 15,
   "metadata": {},
   "outputs": [
    {
     "ename": "ValueError",
     "evalue": "shapes (3,2) and (3,) not aligned: 2 (dim 1) != 3 (dim 0)",
     "output_type": "error",
     "traceback": [
      "\u001b[0;31m---------------------------------------------------------------------------\u001b[0m",
      "\u001b[0;31mValueError\u001b[0m                                Traceback (most recent call last)",
      "\u001b[0;32m<ipython-input-15-074aa4d965f4>\u001b[0m in \u001b[0;36m<module>\u001b[0;34m()\u001b[0m\n\u001b[0;32m----> 1\u001b[0;31m \u001b[0mnp\u001b[0m\u001b[0;34m.\u001b[0m\u001b[0mdot\u001b[0m\u001b[0;34m(\u001b[0m\u001b[0mx\u001b[0m\u001b[0;34m,\u001b[0m\u001b[0mw\u001b[0m\u001b[0;34m)\u001b[0m\u001b[0;34m\u001b[0m\u001b[0m\n\u001b[0m",
      "\u001b[0;31mValueError\u001b[0m: shapes (3,2) and (3,) not aligned: 2 (dim 1) != 3 (dim 0)"
     ]
    }
   ],
   "source": [
    "np.dot(x,w)"
   ]
  },
  {
   "cell_type": "code",
   "execution_count": 19,
   "metadata": {},
   "outputs": [
    {
     "data": {
      "text/plain": [
       "array([[ 76,  28],\n",
       "       [103,  40]])"
      ]
     },
     "execution_count": 19,
     "metadata": {},
     "output_type": "execute_result"
    }
   ],
   "source": [
    "np.dot(x.T,w.T)"
   ]
  },
  {
   "cell_type": "code",
   "execution_count": 20,
   "metadata": {},
   "outputs": [
    {
     "data": {
      "text/plain": [
       "array([[1, 2],\n",
       "       [2, 3],\n",
       "       [5, 6]])"
      ]
     },
     "execution_count": 20,
     "metadata": {},
     "output_type": "execute_result"
    }
   ],
   "source": [
    "x"
   ]
  },
  {
   "cell_type": "code",
   "execution_count": 21,
   "metadata": {},
   "outputs": [
    {
     "data": {
      "text/plain": [
       "array([[ 6,  8],\n",
       "       [ 7,  9],\n",
       "       [10, 12]])"
      ]
     },
     "execution_count": 21,
     "metadata": {},
     "output_type": "execute_result"
    }
   ],
   "source": [
    "x + [5,6]"
   ]
  },
  {
   "cell_type": "code",
   "execution_count": 22,
   "metadata": {},
   "outputs": [
    {
     "data": {
      "text/plain": [
       "array([[1, 2],\n",
       "       [2, 3],\n",
       "       [5, 6]])"
      ]
     },
     "execution_count": 22,
     "metadata": {},
     "output_type": "execute_result"
    }
   ],
   "source": [
    "x"
   ]
  },
  {
   "cell_type": "code",
   "execution_count": 23,
   "metadata": {},
   "outputs": [
    {
     "data": {
      "text/plain": [
       "array([1, 2, 5])"
      ]
     },
     "execution_count": 23,
     "metadata": {},
     "output_type": "execute_result"
    }
   ],
   "source": [
    "x[:,0]"
   ]
  },
  {
   "cell_type": "code",
   "execution_count": 25,
   "metadata": {},
   "outputs": [
    {
     "data": {
      "text/plain": [
       "array([ 0.5 ,  2.  ,  1.25])"
      ]
     },
     "execution_count": 25,
     "metadata": {},
     "output_type": "execute_result"
    }
   ],
   "source": [
    "x[:,0]/[2,1,4]"
   ]
  },
  {
   "cell_type": "code",
   "execution_count": null,
   "metadata": {
    "collapsed": true
   },
   "outputs": [],
   "source": []
  },
  {
   "cell_type": "code",
   "execution_count": 26,
   "metadata": {
    "collapsed": true
   },
   "outputs": [],
   "source": [
    "delta = np.array([[1,2],[3,4],[5,6]])"
   ]
  },
  {
   "cell_type": "code",
   "execution_count": 27,
   "metadata": {},
   "outputs": [
    {
     "ename": "NameError",
     "evalue": "name 'detla' is not defined",
     "output_type": "error",
     "traceback": [
      "\u001b[0;31m---------------------------------------------------------------------------\u001b[0m",
      "\u001b[0;31mNameError\u001b[0m                                 Traceback (most recent call last)",
      "\u001b[0;32m<ipython-input-27-854828ed76cb>\u001b[0m in \u001b[0;36m<module>\u001b[0;34m()\u001b[0m\n\u001b[0;32m----> 1\u001b[0;31m \u001b[0mdetla\u001b[0m\u001b[0;34m\u001b[0m\u001b[0m\n\u001b[0m",
      "\u001b[0;31mNameError\u001b[0m: name 'detla' is not defined"
     ]
    }
   ],
   "source": [
    "detla"
   ]
  },
  {
   "cell_type": "code",
   "execution_count": 28,
   "metadata": {},
   "outputs": [
    {
     "data": {
      "text/plain": [
       "array([[1, 2],\n",
       "       [3, 4],\n",
       "       [5, 6]])"
      ]
     },
     "execution_count": 28,
     "metadata": {},
     "output_type": "execute_result"
    }
   ],
   "source": [
    "delta"
   ]
  },
  {
   "cell_type": "code",
   "execution_count": 29,
   "metadata": {},
   "outputs": [
    {
     "data": {
      "text/plain": [
       "12"
      ]
     },
     "execution_count": 29,
     "metadata": {},
     "output_type": "execute_result"
    }
   ],
   "source": [
    "delta[:,delta.shape[1]-1].sum()"
   ]
  },
  {
   "cell_type": "code",
   "execution_count": 30,
   "metadata": {},
   "outputs": [
    {
     "data": {
      "text/plain": [
       "array([1, 1, 1])"
      ]
     },
     "execution_count": 30,
     "metadata": {},
     "output_type": "execute_result"
    }
   ],
   "source": [
    "delta.argmax(axis=1)"
   ]
  },
  {
   "cell_type": "code",
   "execution_count": 31,
   "metadata": {
    "collapsed": true
   },
   "outputs": [],
   "source": [
    "path = []"
   ]
  },
  {
   "cell_type": "code",
   "execution_count": 32,
   "metadata": {
    "collapsed": true
   },
   "outputs": [],
   "source": [
    "path.append(1)"
   ]
  },
  {
   "cell_type": "code",
   "execution_count": 33,
   "metadata": {},
   "outputs": [
    {
     "data": {
      "text/plain": [
       "[1]"
      ]
     },
     "execution_count": 33,
     "metadata": {},
     "output_type": "execute_result"
    }
   ],
   "source": [
    "path"
   ]
  },
  {
   "cell_type": "code",
   "execution_count": 34,
   "metadata": {},
   "outputs": [
    {
     "data": {
      "text/plain": [
       "1"
      ]
     },
     "execution_count": 34,
     "metadata": {},
     "output_type": "execute_result"
    }
   ],
   "source": [
    "path[0]"
   ]
  },
  {
   "cell_type": "code",
   "execution_count": 35,
   "metadata": {},
   "outputs": [
    {
     "data": {
      "text/plain": [
       "array([[ 8,  9, 10],\n",
       "       [ 5,  4,  3]])"
      ]
     },
     "execution_count": 35,
     "metadata": {},
     "output_type": "execute_result"
    }
   ],
   "source": [
    "w"
   ]
  },
  {
   "cell_type": "code",
   "execution_count": 36,
   "metadata": {},
   "outputs": [
    {
     "data": {
      "text/plain": [
       "2"
      ]
     },
     "execution_count": 36,
     "metadata": {},
     "output_type": "execute_result"
    }
   ],
   "source": [
    "w[0].argmax()"
   ]
  },
  {
   "cell_type": "code",
   "execution_count": 37,
   "metadata": {
    "collapsed": true
   },
   "outputs": [],
   "source": [
    "from __future__ import print_function\n",
    "import json\n",
    "import numpy as np\n",
    "import sys\n",
    "\n",
    "def viterbi(pi, A, B, O):\n",
    "  \"\"\"\n",
    "  Viterbi algorithm\n",
    "\n",
    "  Inputs:\n",
    "  - pi: A numpy array of initial probailities. pi[i] = P(Z_1 = s_i)\n",
    "  - A: A numpy array of transition probailities. A[i, j] = P(Z_t = s_j|Z_t-1 = s_i)\n",
    "  - B: A numpy array of observation probabilities. B[i, k] = P(X_t = o_k| Z_t = s_i)\n",
    "  - O: A list of observation sequence (in terms of index, not the actual symbol)\n",
    "\n",
    "  Returns:\n",
    "  - path: A list of the most likely hidden state path k* (in terms of the state index)\n",
    "    argmax_k P(s_k1:s_kT | x_1:x_T)\n",
    "  \"\"\"\n",
    "  path = []\n",
    "  ###################################################\n",
    "  # Q3.3 Edit here\n",
    "  ###################################################\n",
    "  S = len(pi)\n",
    "  N = len(O)\n",
    "  delta = np.zeros([S, N])\n",
    "  dp = pi\n",
    "  for i in range(0,N):\n",
    "    temp = A.T*dp*B[:,O[i]]\n",
    "    dp = temp.max(axis=1)\n",
    "    delta[:,i] = temp.argmax(axis=1)\n",
    "  path.append(dp.argmax())\n",
    "  for i in range(0,N-1):\n",
    "        path.insert(0,delta[path[0],N-1-i])\n",
    "  return path\n",
    "\n",
    "def main():\n",
    "  model_file = sys.argv[1]\n",
    "  Osymbols = sys.argv[2]\n",
    "\n",
    "  #### load data ####\n",
    "  with open(model_file, 'r') as f:\n",
    "    data = json.load(f)\n",
    "  A = np.array(data['A'])\n",
    "  B = np.array(data['B'])\n",
    "  pi = np.array(data['pi'])\n",
    "  #### observation symbols #####\n",
    "  obs_symbols = data['observations']\n",
    "  #### state symbols #####\n",
    "  states_symbols = data['states']\n",
    "\n",
    "  N = len(Osymbols)\n",
    "  O = [obs_symbols[j] for j in Osymbols]\n",
    "\n",
    "\n",
    "  viterbi_path = viterbi(pi, A, B, O)\n",
    "\n",
    "  print('Viterbi best path is ')\n",
    "  for j in viterbi_path:\n",
    "    print(states_symbols[j], end=' ')"
   ]
  },
  {
   "cell_type": "code",
   "execution_count": 38,
   "metadata": {},
   "outputs": [
    {
     "ename": "FileNotFoundError",
     "evalue": "[Errno 2] No such file or directory: '-f'",
     "output_type": "error",
     "traceback": [
      "\u001b[0;31m---------------------------------------------------------------------------\u001b[0m",
      "\u001b[0;31mFileNotFoundError\u001b[0m                         Traceback (most recent call last)",
      "\u001b[0;32m<ipython-input-38-58ca95c5b364>\u001b[0m in \u001b[0;36m<module>\u001b[0;34m()\u001b[0m\n\u001b[0;32m----> 1\u001b[0;31m \u001b[0mmain\u001b[0m\u001b[0;34m(\u001b[0m\u001b[0;34m)\u001b[0m\u001b[0;34m\u001b[0m\u001b[0m\n\u001b[0m",
      "\u001b[0;32m<ipython-input-37-c83648fa15d4>\u001b[0m in \u001b[0;36mmain\u001b[0;34m()\u001b[0m\n\u001b[1;32m     40\u001b[0m \u001b[0;34m\u001b[0m\u001b[0m\n\u001b[1;32m     41\u001b[0m   \u001b[0;31m#### load data ####\u001b[0m\u001b[0;34m\u001b[0m\u001b[0;34m\u001b[0m\u001b[0m\n\u001b[0;32m---> 42\u001b[0;31m   \u001b[0;32mwith\u001b[0m \u001b[0mopen\u001b[0m\u001b[0;34m(\u001b[0m\u001b[0mmodel_file\u001b[0m\u001b[0;34m,\u001b[0m \u001b[0;34m'r'\u001b[0m\u001b[0;34m)\u001b[0m \u001b[0;32mas\u001b[0m \u001b[0mf\u001b[0m\u001b[0;34m:\u001b[0m\u001b[0;34m\u001b[0m\u001b[0m\n\u001b[0m\u001b[1;32m     43\u001b[0m     \u001b[0mdata\u001b[0m \u001b[0;34m=\u001b[0m \u001b[0mjson\u001b[0m\u001b[0;34m.\u001b[0m\u001b[0mload\u001b[0m\u001b[0;34m(\u001b[0m\u001b[0mf\u001b[0m\u001b[0;34m)\u001b[0m\u001b[0;34m\u001b[0m\u001b[0m\n\u001b[1;32m     44\u001b[0m   \u001b[0mA\u001b[0m \u001b[0;34m=\u001b[0m \u001b[0mnp\u001b[0m\u001b[0;34m.\u001b[0m\u001b[0marray\u001b[0m\u001b[0;34m(\u001b[0m\u001b[0mdata\u001b[0m\u001b[0;34m[\u001b[0m\u001b[0;34m'A'\u001b[0m\u001b[0;34m]\u001b[0m\u001b[0;34m)\u001b[0m\u001b[0;34m\u001b[0m\u001b[0m\n",
      "\u001b[0;31mFileNotFoundError\u001b[0m: [Errno 2] No such file or directory: '-f'"
     ]
    }
   ],
   "source": [
    "main()"
   ]
  },
  {
   "cell_type": "code",
   "execution_count": 39,
   "metadata": {},
   "outputs": [
    {
     "data": {
      "text/plain": [
       "array([[ 8,  9, 10],\n",
       "       [ 5,  4,  3]])"
      ]
     },
     "execution_count": 39,
     "metadata": {},
     "output_type": "execute_result"
    }
   ],
   "source": [
    "w"
   ]
  },
  {
   "cell_type": "code",
   "execution_count": 44,
   "metadata": {},
   "outputs": [
    {
     "name": "stdout",
     "output_type": "stream",
     "text": [
      "10\n",
      "9\n",
      "8\n"
     ]
    }
   ],
   "source": [
    "for i in range(0,3):\n",
    "    print(w[0,2-i])"
   ]
  },
  {
   "cell_type": "code",
   "execution_count": 45,
   "metadata": {},
   "outputs": [
    {
     "ename": "SyntaxError",
     "evalue": "invalid syntax (<ipython-input-45-321e5b2cb4d2>, line 1)",
     "output_type": "error",
     "traceback": [
      "\u001b[0;36m  File \u001b[0;32m\"<ipython-input-45-321e5b2cb4d2>\"\u001b[0;36m, line \u001b[0;32m1\u001b[0m\n\u001b[0;31m    (int)3.0\u001b[0m\n\u001b[0m           ^\u001b[0m\n\u001b[0;31mSyntaxError\u001b[0m\u001b[0;31m:\u001b[0m invalid syntax\n"
     ]
    }
   ],
   "source": [
    "(int)3.0"
   ]
  },
  {
   "cell_type": "code",
   "execution_count": 46,
   "metadata": {},
   "outputs": [
    {
     "data": {
      "text/plain": [
       "int"
      ]
     },
     "execution_count": 46,
     "metadata": {},
     "output_type": "execute_result"
    }
   ],
   "source": [
    "type(3)"
   ]
  },
  {
   "cell_type": "code",
   "execution_count": null,
   "metadata": {
    "collapsed": true
   },
   "outputs": [],
   "source": []
  }
 ],
 "metadata": {
  "kernelspec": {
   "display_name": "Python 3",
   "language": "python",
   "name": "python3"
  },
  "language_info": {
   "codemirror_mode": {
    "name": "ipython",
    "version": 3
   },
   "file_extension": ".py",
   "mimetype": "text/x-python",
   "name": "python",
   "nbconvert_exporter": "python",
   "pygments_lexer": "ipython3",
   "version": "3.6.3"
  }
 },
 "nbformat": 4,
 "nbformat_minor": 2
}
